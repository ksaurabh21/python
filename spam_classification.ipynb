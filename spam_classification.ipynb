{
 "cells": [
  {
   "cell_type": "markdown",
   "metadata": {},
   "source": [
    "## Text mining exercise - spam vs ham classification using Naive Bayes\n",
    "### Faculty development program - New Horizon College\n",
    "### 21 Jan 2019\n",
    "##### author: Kumar Saurabh"
   ]
  },
  {
   "cell_type": "code",
   "execution_count": 1,
   "metadata": {},
   "outputs": [],
   "source": [
    "import os\n",
    "import pandas as pd\n",
    "import string\n",
    "from nltk.tokenize import word_tokenize\n",
    "from nltk.corpus import stopwords\n",
    "from collections import Counter\n",
    "import numpy as np\n",
    "from sklearn.model_selection import train_test_split\n",
    "from sklearn.metrics import confusion_matrix,  classification_report\n",
    "import matplotlib.pyplot as plt\n",
    "%matplotlib inline\n",
    "\n",
    "np.random.seed(2019)\n"
   ]
  },
  {
   "cell_type": "code",
   "execution_count": 2,
   "metadata": {},
   "outputs": [
    {
     "data": {
      "text/plain": [
       "ham     4825\n",
       "spam     747\n",
       "Name: class, dtype: int64"
      ]
     },
     "execution_count": 2,
     "metadata": {},
     "output_type": "execute_result"
    }
   ],
   "source": [
    "#Read data\n",
    "#dataset source: https://www.kaggle.com/uciml/sms-spam-collection-dataset\n",
    "df = pd.read_csv('data\\\\spam.csv', engine = 'python', usecols = ['v1','v2'])\n",
    "df.columns = ['class', 'text']\n",
    "df['class'].value_counts()\n"
   ]
  },
  {
   "cell_type": "code",
   "execution_count": 3,
   "metadata": {},
   "outputs": [
    {
     "data": {
      "text/html": [
       "<div>\n",
       "<style scoped>\n",
       "    .dataframe tbody tr th:only-of-type {\n",
       "        vertical-align: middle;\n",
       "    }\n",
       "\n",
       "    .dataframe tbody tr th {\n",
       "        vertical-align: top;\n",
       "    }\n",
       "\n",
       "    .dataframe thead th {\n",
       "        text-align: right;\n",
       "    }\n",
       "</style>\n",
       "<table border=\"1\" class=\"dataframe\">\n",
       "  <thead>\n",
       "    <tr style=\"text-align: right;\">\n",
       "      <th></th>\n",
       "      <th>class</th>\n",
       "      <th>text</th>\n",
       "    </tr>\n",
       "  </thead>\n",
       "  <tbody>\n",
       "    <tr>\n",
       "      <th>0</th>\n",
       "      <td>ham</td>\n",
       "      <td>Go until jurong point, crazy.. Available only ...</td>\n",
       "    </tr>\n",
       "    <tr>\n",
       "      <th>1</th>\n",
       "      <td>ham</td>\n",
       "      <td>Ok lar... Joking wif u oni...</td>\n",
       "    </tr>\n",
       "    <tr>\n",
       "      <th>2</th>\n",
       "      <td>spam</td>\n",
       "      <td>Free entry in 2 a wkly comp to win FA Cup fina...</td>\n",
       "    </tr>\n",
       "    <tr>\n",
       "      <th>3</th>\n",
       "      <td>ham</td>\n",
       "      <td>U dun say so early hor... U c already then say...</td>\n",
       "    </tr>\n",
       "    <tr>\n",
       "      <th>4</th>\n",
       "      <td>ham</td>\n",
       "      <td>Nah I don't think he goes to usf, he lives aro...</td>\n",
       "    </tr>\n",
       "  </tbody>\n",
       "</table>\n",
       "</div>"
      ],
      "text/plain": [
       "  class                                               text\n",
       "0   ham  Go until jurong point, crazy.. Available only ...\n",
       "1   ham                      Ok lar... Joking wif u oni...\n",
       "2  spam  Free entry in 2 a wkly comp to win FA Cup fina...\n",
       "3   ham  U dun say so early hor... U c already then say...\n",
       "4   ham  Nah I don't think he goes to usf, he lives aro..."
      ]
     },
     "execution_count": 3,
     "metadata": {},
     "output_type": "execute_result"
    }
   ],
   "source": [
    "df.head()"
   ]
  },
  {
   "cell_type": "code",
   "execution_count": 4,
   "metadata": {},
   "outputs": [
    {
     "data": {
      "text/plain": [
       "['would', 'like', 'cheese', 'burger', 'lunch']"
      ]
     },
     "execution_count": 4,
     "metadata": {},
     "output_type": "execute_result"
    }
   ],
   "source": [
    "def process_text(s):\n",
    "    ###return list of tokens after processing input string s\n",
    "    ###tokens are lower case, with punctuations and stopwords removed from string s\n",
    "    stop_words = stopwords.words('english')\n",
    "    return [w for w in word_tokenize(s.lower()) if w not in string.punctuation and w not in stop_words]\n",
    "\n",
    "process_text('I would like a Cheese Burger for lunch.')"
   ]
  },
  {
   "cell_type": "code",
   "execution_count": 5,
   "metadata": {},
   "outputs": [
    {
     "data": {
      "text/plain": [
       "['...', 'u', 'call', \"'s\", '2', \"'m\", 'get', 'ur', \"n't\", 'gt']"
      ]
     },
     "execution_count": 5,
     "metadata": {},
     "output_type": "execute_result"
    }
   ],
   "source": [
    "def get_vocab(str_list, vocab_size, tokenizer):\n",
    "    #str_list is a list of strings\n",
    "    #vocab_size is an integer indicating number of tokens to keep in the vocabulary\n",
    "    #tokenizer should be a function that takes a string as input and returns a list of tokens\n",
    "    words_corpus = []\n",
    "    for st in str_list:\n",
    "        words_corpus.extend(tokenizer(st))\n",
    "    word_counts = Counter(words_corpus)\n",
    "    top_words = word_counts.most_common(vocab_size)\n",
    "    vocab = list(list(zip(*top_words))[0])\n",
    "    return vocab\n",
    "\n",
    "vocab_size = 1000\n",
    "vocab = get_vocab(df['text'], vocab_size, process_text)\n",
    "vocab[0:10] #print top 10 words in the vocab. the sequence of words is in the order of their frequency in the whole corpus"
   ]
  },
  {
   "cell_type": "code",
   "execution_count": 6,
   "metadata": {},
   "outputs": [],
   "source": [
    "class_labels = df['class'].unique()\n",
    "num_class = len(class_labels)\n",
    "X = np.zeros(shape = (num_class, vocab_size)) #term frequency for each class\n"
   ]
  },
  {
   "cell_type": "code",
   "execution_count": 7,
   "metadata": {},
   "outputs": [
    {
     "name": "stdout",
     "output_type": "stream",
     "text": [
      "Top 10 words in vocab: ['...', 'u', 'call', \"'s\", '2', \"'m\", 'get', 'ur', \"n't\", 'gt']\n",
      "Class labels: ['ham' 'spam']\n",
      "Frequency of first 10 vocab words in each class:\n",
      " [[1028.  730.  190.  329.  229.  315.  237.  187.  267.  254.]\n",
      " [   5.  107.  276.   53.  143.    8.   65.  114.   14.    0.]]\n",
      "Number of tokens in each class: [23989.  6675.]\n"
     ]
    }
   ],
   "source": [
    "text_train, text_test, class_train, class_test = train_test_split(df['text'],df['class'],test_size=0.2)\n",
    "\n",
    "#use training data to compute term frequency for each class\n",
    "for class_name, text in zip(class_train, text_train):\n",
    "    class_index = list(class_labels).index(class_name)\n",
    "    for word in process_text(text):\n",
    "        if word in vocab: \n",
    "            word_index = vocab.index(word)\n",
    "            X[class_index, word_index] +=1\n",
    "\n",
    "print('Top 10 words in vocab:', vocab[0:10])\n",
    "print('Class labels:',class_labels)\n",
    "print('Frequency of first 10 vocab words in each class:\\n',X[:,0:10])\n",
    "print('Number of tokens in each class:', X.sum(axis = 1))\n"
   ]
  },
  {
   "cell_type": "code",
   "execution_count": 8,
   "metadata": {},
   "outputs": [
    {
     "name": "stdout",
     "output_type": "stream",
     "text": [
      "prior: [0.86650213 0.13349787]\n",
      "class condtional probabilities for first 10 words in vocab:\n",
      " [[0.04117812 0.02925287 0.00764336 0.01320581 0.00920405 0.01264556\n",
      "  0.00952419 0.00752331 0.01072472 0.01020449]\n",
      " [0.00078176 0.01407166 0.03609121 0.00703583 0.01876221 0.00117264\n",
      "  0.00859935 0.01498371 0.0019544  0.00013029]]\n"
     ]
    }
   ],
   "source": [
    "#Algo: https://nlp.stanford.edu/IR-book/html/htmledition/naive-bayes-text-classification-1.html\n",
    "#get prior probabilities\n",
    "prior = np.zeros(num_class)\n",
    "for i,cls in enumerate(class_labels):\n",
    "    prior[i] = sum(class_train == class_labels[i])/(len(class_train))\n",
    "\n",
    "#condtional probabilites for the words in vocab    \n",
    "class_cond_probabilities = (X+1)/(X.sum(axis = 1) + vocab_size).reshape(num_class, 1)\n",
    "\n",
    "print('prior:', prior)\n",
    "print('class condtional probabilities for first 10 words in vocab:\\n', class_cond_probabilities[:, 0:10])"
   ]
  },
  {
   "cell_type": "code",
   "execution_count": 9,
   "metadata": {},
   "outputs": [
    {
     "data": {
      "text/html": [
       "<div>\n",
       "<style scoped>\n",
       "    .dataframe tbody tr th:only-of-type {\n",
       "        vertical-align: middle;\n",
       "    }\n",
       "\n",
       "    .dataframe tbody tr th {\n",
       "        vertical-align: top;\n",
       "    }\n",
       "\n",
       "    .dataframe thead th {\n",
       "        text-align: right;\n",
       "    }\n",
       "</style>\n",
       "<table border=\"1\" class=\"dataframe\">\n",
       "  <thead>\n",
       "    <tr style=\"text-align: right;\">\n",
       "      <th></th>\n",
       "      <th>labels</th>\n",
       "      <th>text</th>\n",
       "    </tr>\n",
       "  </thead>\n",
       "  <tbody>\n",
       "    <tr>\n",
       "      <th>454</th>\n",
       "      <td>spam</td>\n",
       "      <td>Loan for any purpose å£500 - å£75,000. Homeown...</td>\n",
       "    </tr>\n",
       "    <tr>\n",
       "      <th>3466</th>\n",
       "      <td>spam</td>\n",
       "      <td>URGENT! We are trying to contact U. Todays dra...</td>\n",
       "    </tr>\n",
       "    <tr>\n",
       "      <th>581</th>\n",
       "      <td>ham</td>\n",
       "      <td>Ok anyway no need to change with what you said</td>\n",
       "    </tr>\n",
       "    <tr>\n",
       "      <th>2231</th>\n",
       "      <td>ham</td>\n",
       "      <td>K, wen ur free come to my home and also tel vi...</td>\n",
       "    </tr>\n",
       "    <tr>\n",
       "      <th>2959</th>\n",
       "      <td>ham</td>\n",
       "      <td>Sir send to group mail check it.</td>\n",
       "    </tr>\n",
       "  </tbody>\n",
       "</table>\n",
       "</div>"
      ],
      "text/plain": [
       "     labels                                               text\n",
       "454    spam  Loan for any purpose å£500 - å£75,000. Homeown...\n",
       "3466   spam  URGENT! We are trying to contact U. Todays dra...\n",
       "581     ham     Ok anyway no need to change with what you said\n",
       "2231    ham  K, wen ur free come to my home and also tel vi...\n",
       "2959    ham                   Sir send to group mail check it."
      ]
     },
     "execution_count": 9,
     "metadata": {},
     "output_type": "execute_result"
    }
   ],
   "source": [
    "def applyMultinomialNB(class_labels, vocab, prior, condprob, doc):\n",
    "    #doc is a string that needs to be classified\n",
    "    doc_tokens = process_text(doc)\n",
    "    score = np.zeros(len(class_labels))\n",
    "    for i,cls in enumerate(class_labels):\n",
    "        score[i] = np.log(prior[i])\n",
    "        for tok in doc_tokens:\n",
    "            if tok in vocab: \n",
    "                tok_index = vocab.index(tok)\n",
    "                score[i] += np.log(condprob[i][tok_index])\n",
    "    return class_labels[score.argmax()]\n",
    "\n",
    "\n",
    "predicted_labels = [applyMultinomialNB(class_labels, vocab, prior, class_cond_probabilities, text) for text in text_test]\n",
    "pd.DataFrame({'text':text_test, 'labels':predicted_labels}).head()"
   ]
  },
  {
   "cell_type": "code",
   "execution_count": 10,
   "metadata": {},
   "outputs": [
    {
     "data": {
      "text/plain": [
       "array([[953,  10],\n",
       "       [ 10, 142]], dtype=int64)"
      ]
     },
     "execution_count": 10,
     "metadata": {},
     "output_type": "execute_result"
    }
   ],
   "source": [
    "results = pd.DataFrame({'actual' : class_test, 'predicted' : predicted_labels})\n",
    "cm = confusion_matrix(y_true = class_test, y_pred = predicted_labels, labels = class_labels)\n",
    "cm"
   ]
  },
  {
   "cell_type": "code",
   "execution_count": 28,
   "metadata": {},
   "outputs": [
    {
     "data": {
      "image/png": "[encoded data removed]",
      "text/plain": [
       "<matplotlib.figure.Figure at 0x1f529680ef0>"
      ]
     },
     "metadata": {},
     "output_type": "display_data"
    }
   ],
   "source": [
    "fig, ax = plt.subplots()\n",
    "#ax = fig.add_subplot(111)\n",
    "cax = ax.matshow(cm)\n",
    "ax.set_title('Confusion matrix of the classifier')\n",
    "fig.colorbar(cax)\n",
    "ax.set_xticklabels([''] + list(class_labels))\n",
    "ax.set_yticklabels([''] + list(class_labels))\n",
    "ax.set_xlabel('Predicted')\n",
    "ax.set_ylabel('True')\n",
    "plt.show()"
   ]
  },
  {
   "cell_type": "code",
   "execution_count": null,
   "metadata": {},
   "outputs": [],
   "source": []
  }
 ],
 "metadata": {
  "kernelspec": {
   "display_name": "Python 3",
   "language": "python",
   "name": "python3"
  },
  "language_info": {
   "codemirror_mode": {
    "name": "ipython",
    "version": 3
   },
   "file_extension": ".py",
   "mimetype": "text/x-python",
   "name": "python",
   "nbconvert_exporter": "python",
   "pygments_lexer": "ipython3",
   "version": "3.6.4"
  }
 },
 "nbformat": 4,
 "nbformat_minor": 2
}
