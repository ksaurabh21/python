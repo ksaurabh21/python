{
 "cells": [
  {
   "cell_type": "markdown",
   "metadata": {},
   "source": [
    "## Linear regression exercise.\n",
    "### Faculty development program - New Horizon College\n",
    "### 21 Jan 2019\n",
    "### parameters estimation with gradient descent using python numpy package\n",
    "##### author: Kumar Saurabh"
   ]
  },
  {
   "cell_type": "code",
   "execution_count": 1,
   "metadata": {},
   "outputs": [],
   "source": [
    "import numpy as np\n",
    "import matplotlib.pyplot as plt\n",
    "%matplotlib inline"
   ]
  },
  {
   "cell_type": "markdown",
   "metadata": {},
   "source": [
    "### Generate Data"
   ]
  },
  {
   "cell_type": "code",
   "execution_count": 3,
   "metadata": {},
   "outputs": [
    {
     "data": {
      "image/png": "[encoded data removed]",
      "text/plain": [
       "<matplotlib.figure.Figure at 0x2049964f7f0>"
      ]
     },
     "metadata": {},
     "output_type": "display_data"
    }
   ],
   "source": [
    "np.random.seed(2019)\n",
    "\n",
    "#generate data\n",
    "m = 60 #number of training examples\n",
    "n = 1 #number of features\n",
    "X = np.ones((m,n+1))\n",
    "X[:,1] = np.linspace(1,10,m) \n",
    "theta = np.array([[2],[1]])\n",
    "Y = np.matmul(X,theta) + np.random.normal(size = m).reshape(m,1) \n",
    "\n",
    "fig, ax = plt.subplots()\n",
    "ax.scatter(X[:,1], Y)\n",
    "plt.show()"
   ]
  },
  {
   "cell_type": "markdown",
   "metadata": {},
   "source": [
    "### Estimate parameters using gradient descent"
   ]
  },
  {
   "cell_type": "code",
   "execution_count": 4,
   "metadata": {},
   "outputs": [],
   "source": [
    "#estimate parameters\n",
    "theta = np.random.rand(2,1) #initial guess\n",
    "theta_grad = np.zeros((n+1,1)) #placeholder for gradient values\n",
    "alpha = 0.01 #learning rate\n",
    "\n",
    "num_iter = 1000\n",
    "i=0\n",
    "cost = []\n",
    "tolerance = 0.0001\n",
    "while i<num_iter:\n",
    "    Y_hat = np.matmul(X, theta)\n",
    "    error = Y_hat - Y\n",
    "    cost.append( (0.5/m)*np.sum(np.power(error,2)))\n",
    "    theta_grad = (1.0/m)*np.matmul(X.transpose(),error) #compute gradient\n",
    "    new_theta = theta - alpha*theta_grad #compute new value of theta\n",
    "    if np.sum(abs(new_theta - theta)) < tolerance:\n",
    "        break\n",
    "    theta = new_theta #update theta\n",
    "    i+=1\n"
   ]
  },
  {
   "cell_type": "code",
   "execution_count": 5,
   "metadata": {},
   "outputs": [
    {
     "data": {
      "text/plain": [
       "array([[2.03731506],\n",
       "       [0.98219372]])"
      ]
     },
     "execution_count": 5,
     "metadata": {},
     "output_type": "execute_result"
    }
   ],
   "source": [
    "theta"
   ]
  },
  {
   "cell_type": "code",
   "execution_count": 6,
   "metadata": {},
   "outputs": [
    {
     "data": {
      "image/png": "[encoded data removed]",
      "text/plain": [
       "<matplotlib.figure.Figure at 0x2049993c908>"
      ]
     },
     "metadata": {},
     "output_type": "display_data"
    }
   ],
   "source": [
    "fig, axes = plt.subplots(nrows = 2, ncols = 1)\n",
    "axes[0].scatter(X[:,1], Y)\n",
    "axes[0].plot(X[:,1], Y_hat)\n",
    "axes[1].plot(cost[0:20])\n",
    "plt.show()"
   ]
  },
  {
   "cell_type": "code",
   "execution_count": null,
   "metadata": {},
   "outputs": [],
   "source": []
  }
 ],
 "metadata": {
  "kernelspec": {
   "display_name": "Python 3",
   "language": "python",
   "name": "python3"
  },
  "language_info": {
   "codemirror_mode": {
    "name": "ipython",
    "version": 3
   },
   "file_extension": ".py",
   "mimetype": "text/x-python",
   "name": "python",
   "nbconvert_exporter": "python",
   "pygments_lexer": "ipython3",
   "version": "3.6.4"
  }
 },
 "nbformat": 4,
 "nbformat_minor": 2
}
