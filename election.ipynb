{
 "cells": [
  {
   "cell_type": "code",
   "execution_count": 1,
   "metadata": {},
   "outputs": [],
   "source": [
    "import requests\n",
    "from bs4 import BeautifulSoup\n",
    "import pandas as pd"
   ]
  },
  {
   "cell_type": "code",
   "execution_count": 2,
   "metadata": {},
   "outputs": [],
   "source": [
    "def get_electon_results(url):\n",
    "    response = requests.get(url)\n",
    "    data = response.text\n",
    "    \n",
    "    soup = BeautifulSoup(data)\n",
    "    table_div = soup.find('div', {'id': 'div1'})\n",
    "    data_table = table_div.find_all('table')[0]\n",
    "    table_rows = data_table.find_all('tr')\n",
    "    \n",
    "    constituency = table_rows[0].find_all('td')[0].text.strip()\n",
    "    \n",
    "    #convert to dataframe\n",
    "    rows = []\n",
    "    th = table_rows[2].find_all('th')\n",
    "    header = [cell.text for cell  in th]\n",
    "    \n",
    "    for tr in table_rows[3:-1]:\n",
    "        td = tr.find_all('td')\n",
    "        row = [cell.text for cell in td]\n",
    "        rows.append(row)\n",
    "    \n",
    "    df = pd.DataFrame(rows, columns = header)\n",
    "    return constituency, df"
   ]
  },
  {
   "cell_type": "code",
   "execution_count": 3,
   "metadata": {},
   "outputs": [],
   "source": [
    "df_results = None\n",
    "seats = range(1,244) #total 243 seats\n",
    "id2seat = {}\n",
    "for i in seats:\n",
    "    url = 'https://results.eci.gov.in/ACTRENDS2020/ConstituencywiseS04'+ str(i) +'.htm?ac=' + str(i)\n",
    "    seat_name, df = get_electon_results(url)\n",
    "    id2seat[i] = seat_name\n",
    "    df.insert(0, 'seat', seat_name)\n",
    "    df.insert(0, 'index', i) #'index' is seat number from 1 to 243. There are 243 seats in Bihar LA\n",
    "    df_results = pd.concat([df_results, df])"
   ]
  },
  {
   "cell_type": "code",
   "execution_count": 4,
   "metadata": {},
   "outputs": [
    {
     "data": {
      "text/plain": [
       "(3976, 9)"
      ]
     },
     "execution_count": 4,
     "metadata": {},
     "output_type": "execute_result"
    }
   ],
   "source": [
    "df_results.shape"
   ]
  },
  {
   "cell_type": "code",
   "execution_count": 5,
   "metadata": {},
   "outputs": [],
   "source": [
    "alliance = {\n",
    "'NDA' : ['Bharatiya Janata Party', 'Janata Dal (United)', 'Vikassheel Insaan Party', 'Hindustani Awam Morcha (Secular)'],\n",
    "'UPA' : ['Rashtriya Janata Dal', 'Indian National Congress', 'Communist Party of India  (Marxist-Leninist)  (Liberation)',\n",
    "      'Communist Party of India  (Marxist)', 'Communist Party of India']\n",
    "}\n",
    "\n",
    "def get_alliance(party_name):\n",
    "    group = 'Others'\n",
    "    for k,v in alliance.items():\n",
    "        if party_name in v:\n",
    "            group = k\n",
    "    return group\n",
    "        \n",
    "df_results['alliance'] = df_results['Party'].map(lambda x: get_alliance(x))"
   ]
  },
  {
   "cell_type": "code",
   "execution_count": 6,
   "metadata": {},
   "outputs": [],
   "source": [
    "df_results.to_csv(r'D:\\dev\\workspace\\bihar_election_2020\\bihar_LA_election_2020.csv', index = False)"
   ]
  },
  {
   "cell_type": "code",
   "execution_count": 7,
   "metadata": {},
   "outputs": [
    {
     "data": {
      "text/plain": [
       "243"
      ]
     },
     "execution_count": 7,
     "metadata": {},
     "output_type": "execute_result"
    }
   ],
   "source": [
    "len(id2seat)"
   ]
  },
  {
   "cell_type": "code",
   "execution_count": 8,
   "metadata": {},
   "outputs": [
    {
     "name": "stdout",
     "output_type": "stream",
     "text": [
      "Bihar-Pipra [17, 42]\n",
      "Bihar-Kalyanpur [16, 131]\n"
     ]
    }
   ],
   "source": [
    "#two constituencies can have same name\n",
    "seat2id = {}\n",
    "for k,v in id2seat.items():\n",
    "    if v in seat2id.keys():\n",
    "        seat2id[v].append(k)\n",
    "        print(v, seat2id[v])\n",
    "    else:\n",
    "        seat2id[v] = [k]"
   ]
  },
  {
   "cell_type": "code",
   "execution_count": 9,
   "metadata": {},
   "outputs": [
    {
     "data": {
      "text/plain": [
       "241"
      ]
     },
     "execution_count": 9,
     "metadata": {},
     "output_type": "execute_result"
    }
   ],
   "source": [
    "df_results['seat'].nunique()"
   ]
  },
  {
   "cell_type": "code",
   "execution_count": 10,
   "metadata": {},
   "outputs": [
    {
     "data": {
      "text/plain": [
       "243"
      ]
     },
     "execution_count": 10,
     "metadata": {},
     "output_type": "execute_result"
    }
   ],
   "source": [
    "df_results['index'].nunique()"
   ]
  },
  {
   "cell_type": "code",
   "execution_count": 11,
   "metadata": {},
   "outputs": [
    {
     "data": {
      "text/plain": [
       "Index(['index', 'seat', 'O.S.N.', 'Candidate', 'Party', 'EVM Votes',\n",
       "       'Postal Votes', 'Total Votes', '% of Votes', 'alliance'],\n",
       "      dtype='object')"
      ]
     },
     "execution_count": 11,
     "metadata": {},
     "output_type": "execute_result"
    }
   ],
   "source": [
    "df_results.columns"
   ]
  },
  {
   "cell_type": "code",
   "execution_count": 12,
   "metadata": {},
   "outputs": [],
   "source": [
    "int_cols = ['EVM Votes', 'Postal Votes', 'Total Votes']\n",
    "for col in int_cols:\n",
    "    df_results[col] = df_results[col].astype(int)"
   ]
  },
  {
   "cell_type": "code",
   "execution_count": 14,
   "metadata": {},
   "outputs": [
    {
     "data": {
      "text/html": [
       "<div>\n",
       "<style scoped>\n",
       "    .dataframe tbody tr th:only-of-type {\n",
       "        vertical-align: middle;\n",
       "    }\n",
       "\n",
       "    .dataframe tbody tr th {\n",
       "        vertical-align: top;\n",
       "    }\n",
       "\n",
       "    .dataframe thead th {\n",
       "        text-align: right;\n",
       "    }\n",
       "</style>\n",
       "<table border=\"1\" class=\"dataframe\">\n",
       "  <thead>\n",
       "    <tr style=\"text-align: right;\">\n",
       "      <th></th>\n",
       "      <th>index</th>\n",
       "      <th>seat</th>\n",
       "      <th>O.S.N.</th>\n",
       "      <th>Candidate</th>\n",
       "      <th>Party</th>\n",
       "      <th>EVM Votes</th>\n",
       "      <th>Postal Votes</th>\n",
       "      <th>Total Votes</th>\n",
       "      <th>% of Votes</th>\n",
       "      <th>alliance</th>\n",
       "    </tr>\n",
       "  </thead>\n",
       "  <tbody>\n",
       "    <tr>\n",
       "      <th>2</th>\n",
       "      <td>155</td>\n",
       "      <td>Bihar-Kahalgaon</td>\n",
       "      <td>3</td>\n",
       "      <td>PAWAN KUMAR YADAV</td>\n",
       "      <td>Bharatiya Janata Party</td>\n",
       "      <td>115326</td>\n",
       "      <td>212</td>\n",
       "      <td>115538</td>\n",
       "      <td>56.23</td>\n",
       "      <td>NDA</td>\n",
       "    </tr>\n",
       "    <tr>\n",
       "      <th>3</th>\n",
       "      <td>155</td>\n",
       "      <td>Bihar-Kahalgaon</td>\n",
       "      <td>4</td>\n",
       "      <td>SHUBHANAND MUKESH</td>\n",
       "      <td>Indian National Congress</td>\n",
       "      <td>72379</td>\n",
       "      <td>266</td>\n",
       "      <td>72645</td>\n",
       "      <td>35.36</td>\n",
       "      <td>UPA</td>\n",
       "    </tr>\n",
       "    <tr>\n",
       "      <th>12</th>\n",
       "      <td>155</td>\n",
       "      <td>Bihar-Kahalgaon</td>\n",
       "      <td>13</td>\n",
       "      <td>BIJAY KUMAR YADAV</td>\n",
       "      <td>Independent</td>\n",
       "      <td>3101</td>\n",
       "      <td>6</td>\n",
       "      <td>3107</td>\n",
       "      <td>1.51</td>\n",
       "      <td>Others</td>\n",
       "    </tr>\n",
       "    <tr>\n",
       "      <th>14</th>\n",
       "      <td>155</td>\n",
       "      <td>Bihar-Kahalgaon</td>\n",
       "      <td>15</td>\n",
       "      <td>NOTA</td>\n",
       "      <td>None of the Above</td>\n",
       "      <td>2188</td>\n",
       "      <td>4</td>\n",
       "      <td>2192</td>\n",
       "      <td>1.07</td>\n",
       "      <td>Others</td>\n",
       "    </tr>\n",
       "    <tr>\n",
       "      <th>0</th>\n",
       "      <td>155</td>\n",
       "      <td>Bihar-Kahalgaon</td>\n",
       "      <td>1</td>\n",
       "      <td>ANUJ KUMAR MANDAL</td>\n",
       "      <td>Nationalist Congress Party</td>\n",
       "      <td>2097</td>\n",
       "      <td>8</td>\n",
       "      <td>2105</td>\n",
       "      <td>1.02</td>\n",
       "      <td>Others</td>\n",
       "    </tr>\n",
       "    <tr>\n",
       "      <th>11</th>\n",
       "      <td>155</td>\n",
       "      <td>Bihar-Kahalgaon</td>\n",
       "      <td>12</td>\n",
       "      <td>MAHENDRA TANTI</td>\n",
       "      <td>Independent</td>\n",
       "      <td>1969</td>\n",
       "      <td>4</td>\n",
       "      <td>1973</td>\n",
       "      <td>0.96</td>\n",
       "      <td>Others</td>\n",
       "    </tr>\n",
       "    <tr>\n",
       "      <th>1</th>\n",
       "      <td>155</td>\n",
       "      <td>Bihar-Kahalgaon</td>\n",
       "      <td>2</td>\n",
       "      <td>KRISHNA KUMAR MANDAL</td>\n",
       "      <td>Bahujan Samaj Party</td>\n",
       "      <td>1346</td>\n",
       "      <td>4</td>\n",
       "      <td>1350</td>\n",
       "      <td>0.66</td>\n",
       "      <td>Others</td>\n",
       "    </tr>\n",
       "    <tr>\n",
       "      <th>4</th>\n",
       "      <td>155</td>\n",
       "      <td>Bihar-Kahalgaon</td>\n",
       "      <td>5</td>\n",
       "      <td>ANIL YADAV</td>\n",
       "      <td>Jan Adhikar Party (Loktantrik)</td>\n",
       "      <td>1272</td>\n",
       "      <td>3</td>\n",
       "      <td>1275</td>\n",
       "      <td>0.62</td>\n",
       "      <td>Others</td>\n",
       "    </tr>\n",
       "    <tr>\n",
       "      <th>13</th>\n",
       "      <td>155</td>\n",
       "      <td>Bihar-Kahalgaon</td>\n",
       "      <td>14</td>\n",
       "      <td>SADANAND SINGH</td>\n",
       "      <td>Independent</td>\n",
       "      <td>1166</td>\n",
       "      <td>1</td>\n",
       "      <td>1167</td>\n",
       "      <td>0.57</td>\n",
       "      <td>Others</td>\n",
       "    </tr>\n",
       "    <tr>\n",
       "      <th>10</th>\n",
       "      <td>155</td>\n",
       "      <td>Bihar-Kahalgaon</td>\n",
       "      <td>11</td>\n",
       "      <td>BHOLA HARIJAN</td>\n",
       "      <td>Independent</td>\n",
       "      <td>854</td>\n",
       "      <td>5</td>\n",
       "      <td>859</td>\n",
       "      <td>0.42</td>\n",
       "      <td>Others</td>\n",
       "    </tr>\n",
       "    <tr>\n",
       "      <th>8</th>\n",
       "      <td>155</td>\n",
       "      <td>Bihar-Kahalgaon</td>\n",
       "      <td>9</td>\n",
       "      <td>MANOJ KUMAR YADAV</td>\n",
       "      <td>Vanchit Samaj Party</td>\n",
       "      <td>793</td>\n",
       "      <td>5</td>\n",
       "      <td>798</td>\n",
       "      <td>0.39</td>\n",
       "      <td>Others</td>\n",
       "    </tr>\n",
       "    <tr>\n",
       "      <th>9</th>\n",
       "      <td>155</td>\n",
       "      <td>Bihar-Kahalgaon</td>\n",
       "      <td>10</td>\n",
       "      <td>RAMCHANDRA MANDAL</td>\n",
       "      <td>Bharatiya Jan Kranti Dal (Democratic)</td>\n",
       "      <td>725</td>\n",
       "      <td>0</td>\n",
       "      <td>725</td>\n",
       "      <td>0.35</td>\n",
       "      <td>Others</td>\n",
       "    </tr>\n",
       "    <tr>\n",
       "      <th>7</th>\n",
       "      <td>155</td>\n",
       "      <td>Bihar-Kahalgaon</td>\n",
       "      <td>8</td>\n",
       "      <td>BHAGERATH KUMAR</td>\n",
       "      <td>Bharatiya Samta Samaj Party</td>\n",
       "      <td>717</td>\n",
       "      <td>1</td>\n",
       "      <td>718</td>\n",
       "      <td>0.35</td>\n",
       "      <td>Others</td>\n",
       "    </tr>\n",
       "    <tr>\n",
       "      <th>5</th>\n",
       "      <td>155</td>\n",
       "      <td>Bihar-Kahalgaon</td>\n",
       "      <td>6</td>\n",
       "      <td>GULAM AHMAD</td>\n",
       "      <td>Bhartiya Sablog Party</td>\n",
       "      <td>641</td>\n",
       "      <td>2</td>\n",
       "      <td>643</td>\n",
       "      <td>0.31</td>\n",
       "      <td>Others</td>\n",
       "    </tr>\n",
       "    <tr>\n",
       "      <th>6</th>\n",
       "      <td>155</td>\n",
       "      <td>Bihar-Kahalgaon</td>\n",
       "      <td>7</td>\n",
       "      <td>PRATIMA DEVI</td>\n",
       "      <td>Bhartiya Party (Loktantrik)</td>\n",
       "      <td>365</td>\n",
       "      <td>3</td>\n",
       "      <td>368</td>\n",
       "      <td>0.18</td>\n",
       "      <td>Others</td>\n",
       "    </tr>\n",
       "  </tbody>\n",
       "</table>\n",
       "</div>"
      ],
      "text/plain": [
       "    index             seat O.S.N.             Candidate  \\\n",
       "2     155  Bihar-Kahalgaon      3     PAWAN KUMAR YADAV   \n",
       "3     155  Bihar-Kahalgaon      4     SHUBHANAND MUKESH   \n",
       "12    155  Bihar-Kahalgaon     13     BIJAY KUMAR YADAV   \n",
       "14    155  Bihar-Kahalgaon     15                  NOTA   \n",
       "0     155  Bihar-Kahalgaon      1     ANUJ KUMAR MANDAL   \n",
       "11    155  Bihar-Kahalgaon     12        MAHENDRA TANTI   \n",
       "1     155  Bihar-Kahalgaon      2  KRISHNA KUMAR MANDAL   \n",
       "4     155  Bihar-Kahalgaon      5            ANIL YADAV   \n",
       "13    155  Bihar-Kahalgaon     14        SADANAND SINGH   \n",
       "10    155  Bihar-Kahalgaon     11         BHOLA HARIJAN   \n",
       "8     155  Bihar-Kahalgaon      9     MANOJ KUMAR YADAV   \n",
       "9     155  Bihar-Kahalgaon     10     RAMCHANDRA MANDAL   \n",
       "7     155  Bihar-Kahalgaon      8       BHAGERATH KUMAR   \n",
       "5     155  Bihar-Kahalgaon      6           GULAM AHMAD   \n",
       "6     155  Bihar-Kahalgaon      7          PRATIMA DEVI   \n",
       "\n",
       "                                    Party  EVM Votes  Postal Votes  \\\n",
       "2                  Bharatiya Janata Party     115326           212   \n",
       "3                Indian National Congress      72379           266   \n",
       "12                            Independent       3101             6   \n",
       "14                      None of the Above       2188             4   \n",
       "0              Nationalist Congress Party       2097             8   \n",
       "11                            Independent       1969             4   \n",
       "1                     Bahujan Samaj Party       1346             4   \n",
       "4          Jan Adhikar Party (Loktantrik)       1272             3   \n",
       "13                            Independent       1166             1   \n",
       "10                            Independent        854             5   \n",
       "8                     Vanchit Samaj Party        793             5   \n",
       "9   Bharatiya Jan Kranti Dal (Democratic)        725             0   \n",
       "7             Bharatiya Samta Samaj Party        717             1   \n",
       "5                   Bhartiya Sablog Party        641             2   \n",
       "6             Bhartiya Party (Loktantrik)        365             3   \n",
       "\n",
       "    Total Votes % of Votes alliance  \n",
       "2        115538      56.23      NDA  \n",
       "3         72645      35.36      UPA  \n",
       "12         3107       1.51   Others  \n",
       "14         2192       1.07   Others  \n",
       "0          2105       1.02   Others  \n",
       "11         1973       0.96   Others  \n",
       "1          1350       0.66   Others  \n",
       "4          1275       0.62   Others  \n",
       "13         1167       0.57   Others  \n",
       "10          859       0.42   Others  \n",
       "8           798       0.39   Others  \n",
       "9           725       0.35   Others  \n",
       "7           718       0.35   Others  \n",
       "5           643       0.31   Others  \n",
       "6           368       0.18   Others  "
      ]
     },
     "execution_count": 14,
     "metadata": {},
     "output_type": "execute_result"
    }
   ],
   "source": [
    "df_results.loc[df_results['seat'].str.contains('Kahalgaon'),:].sort_values(by = ['EVM Votes'], ascending = False)"
   ]
  },
  {
   "cell_type": "code",
   "execution_count": 15,
   "metadata": {},
   "outputs": [
    {
     "data": {
      "text/plain": [
       "Rashtriya Janata Dal                                          75\n",
       "Bharatiya Janata Party                                        74\n",
       "Janata Dal (United)                                           43\n",
       "Indian National Congress                                      19\n",
       "Communist Party of India  (Marxist-Leninist)  (Liberation)    12\n",
       "All India Majlis-E-Ittehadul Muslimeen                         5\n",
       "Hindustani Awam Morcha (Secular)                               4\n",
       "Vikassheel Insaan Party                                        4\n",
       "Communist Party of India  (Marxist)                            2\n",
       "Communist Party of India                                       2\n",
       "Lok Jan Shakti Party                                           1\n",
       "Independent                                                    1\n",
       "Bahujan Samaj Party                                            1\n",
       "Name: Party, dtype: int64"
      ]
     },
     "execution_count": 15,
     "metadata": {},
     "output_type": "execute_result"
    }
   ],
   "source": [
    "df_winner = df_results.groupby(['index']).apply(lambda x: x.nlargest(1, ['Total Votes'])).reset_index(drop = True)\n",
    "df_winner['Party'].value_counts()"
   ]
  },
  {
   "cell_type": "code",
   "execution_count": 16,
   "metadata": {},
   "outputs": [
    {
     "data": {
      "text/plain": [
       "NDA       125\n",
       "UPA       110\n",
       "Others      8\n",
       "Name: alliance, dtype: int64"
      ]
     },
     "execution_count": 16,
     "metadata": {},
     "output_type": "execute_result"
    }
   ],
   "source": [
    "df_winner['alliance'].value_counts()"
   ]
  },
  {
   "cell_type": "code",
   "execution_count": 17,
   "metadata": {},
   "outputs": [],
   "source": [
    "df_top2 = df_results.groupby(['index']).apply(lambda x: x.nlargest(2, ['Total Votes'])).reset_index(drop = True)"
   ]
  },
  {
   "cell_type": "code",
   "execution_count": 18,
   "metadata": {},
   "outputs": [
    {
     "data": {
      "text/html": [
       "<div>\n",
       "<style scoped>\n",
       "    .dataframe tbody tr th:only-of-type {\n",
       "        vertical-align: middle;\n",
       "    }\n",
       "\n",
       "    .dataframe tbody tr th {\n",
       "        vertical-align: top;\n",
       "    }\n",
       "\n",
       "    .dataframe thead th {\n",
       "        text-align: right;\n",
       "    }\n",
       "</style>\n",
       "<table border=\"1\" class=\"dataframe\">\n",
       "  <thead>\n",
       "    <tr style=\"text-align: right;\">\n",
       "      <th></th>\n",
       "      <th>index</th>\n",
       "      <th>seat</th>\n",
       "      <th>O.S.N.</th>\n",
       "      <th>Candidate</th>\n",
       "      <th>Party</th>\n",
       "      <th>EVM Votes</th>\n",
       "      <th>Postal Votes</th>\n",
       "      <th>Total Votes</th>\n",
       "      <th>% of Votes</th>\n",
       "      <th>alliance</th>\n",
       "    </tr>\n",
       "  </thead>\n",
       "  <tbody>\n",
       "    <tr>\n",
       "      <th>0</th>\n",
       "      <td>1</td>\n",
       "      <td>Bihar-Valmikinagar</td>\n",
       "      <td>1</td>\n",
       "      <td>Dhirendra Pratap Singh alias Rinku singh</td>\n",
       "      <td>Janata Dal (United)</td>\n",
       "      <td>74777</td>\n",
       "      <td>129</td>\n",
       "      <td>74906</td>\n",
       "      <td>38.32</td>\n",
       "      <td>NDA</td>\n",
       "    </tr>\n",
       "    <tr>\n",
       "      <th>1</th>\n",
       "      <td>1</td>\n",
       "      <td>Bihar-Valmikinagar</td>\n",
       "      <td>4</td>\n",
       "      <td>Rajesh Singh</td>\n",
       "      <td>Indian National Congress</td>\n",
       "      <td>52952</td>\n",
       "      <td>369</td>\n",
       "      <td>53321</td>\n",
       "      <td>27.28</td>\n",
       "      <td>UPA</td>\n",
       "    </tr>\n",
       "    <tr>\n",
       "      <th>2</th>\n",
       "      <td>2</td>\n",
       "      <td>Bihar-Ramnagar</td>\n",
       "      <td>1</td>\n",
       "      <td>Bhagirathi Devi</td>\n",
       "      <td>Bharatiya Janata Party</td>\n",
       "      <td>75360</td>\n",
       "      <td>63</td>\n",
       "      <td>75423</td>\n",
       "      <td>39.57</td>\n",
       "      <td>NDA</td>\n",
       "    </tr>\n",
       "    <tr>\n",
       "      <th>3</th>\n",
       "      <td>2</td>\n",
       "      <td>Bihar-Ramnagar</td>\n",
       "      <td>2</td>\n",
       "      <td>Rajesh Ram</td>\n",
       "      <td>Indian National Congress</td>\n",
       "      <td>59273</td>\n",
       "      <td>354</td>\n",
       "      <td>59627</td>\n",
       "      <td>31.28</td>\n",
       "      <td>UPA</td>\n",
       "    </tr>\n",
       "    <tr>\n",
       "      <th>4</th>\n",
       "      <td>3</td>\n",
       "      <td>Bihar-Narkatiaganj</td>\n",
       "      <td>4</td>\n",
       "      <td>RASHMI VARMA</td>\n",
       "      <td>Bharatiya Janata Party</td>\n",
       "      <td>75345</td>\n",
       "      <td>139</td>\n",
       "      <td>75484</td>\n",
       "      <td>45.85</td>\n",
       "      <td>NDA</td>\n",
       "    </tr>\n",
       "    <tr>\n",
       "      <th>5</th>\n",
       "      <td>3</td>\n",
       "      <td>Bihar-Narkatiaganj</td>\n",
       "      <td>5</td>\n",
       "      <td>VINAY VARMA</td>\n",
       "      <td>Indian National Congress</td>\n",
       "      <td>53826</td>\n",
       "      <td>524</td>\n",
       "      <td>54350</td>\n",
       "      <td>33.02</td>\n",
       "      <td>UPA</td>\n",
       "    </tr>\n",
       "    <tr>\n",
       "      <th>6</th>\n",
       "      <td>4</td>\n",
       "      <td>Bihar-Bagaha</td>\n",
       "      <td>2</td>\n",
       "      <td>RAM SINGH</td>\n",
       "      <td>Bharatiya Janata Party</td>\n",
       "      <td>89882</td>\n",
       "      <td>131</td>\n",
       "      <td>90013</td>\n",
       "      <td>49.51</td>\n",
       "      <td>NDA</td>\n",
       "    </tr>\n",
       "    <tr>\n",
       "      <th>7</th>\n",
       "      <td>4</td>\n",
       "      <td>Bihar-Bagaha</td>\n",
       "      <td>1</td>\n",
       "      <td>JAYESH MANGLAM SINGH</td>\n",
       "      <td>Indian National Congress</td>\n",
       "      <td>59388</td>\n",
       "      <td>605</td>\n",
       "      <td>59993</td>\n",
       "      <td>33</td>\n",
       "      <td>UPA</td>\n",
       "    </tr>\n",
       "    <tr>\n",
       "      <th>8</th>\n",
       "      <td>5</td>\n",
       "      <td>Bihar-Lauriya</td>\n",
       "      <td>2</td>\n",
       "      <td>Vinay Bihari</td>\n",
       "      <td>Bharatiya Janata Party</td>\n",
       "      <td>77852</td>\n",
       "      <td>75</td>\n",
       "      <td>77927</td>\n",
       "      <td>49.48</td>\n",
       "      <td>NDA</td>\n",
       "    </tr>\n",
       "    <tr>\n",
       "      <th>9</th>\n",
       "      <td>5</td>\n",
       "      <td>Bihar-Lauriya</td>\n",
       "      <td>3</td>\n",
       "      <td>Shambhu Tiwari</td>\n",
       "      <td>Rashtriya Janata Dal</td>\n",
       "      <td>48680</td>\n",
       "      <td>243</td>\n",
       "      <td>48923</td>\n",
       "      <td>31.06</td>\n",
       "      <td>UPA</td>\n",
       "    </tr>\n",
       "  </tbody>\n",
       "</table>\n",
       "</div>"
      ],
      "text/plain": [
       "   index                seat O.S.N.                                 Candidate  \\\n",
       "0      1  Bihar-Valmikinagar      1  Dhirendra Pratap Singh alias Rinku singh   \n",
       "1      1  Bihar-Valmikinagar      4                              Rajesh Singh   \n",
       "2      2      Bihar-Ramnagar      1                           Bhagirathi Devi   \n",
       "3      2      Bihar-Ramnagar      2                                Rajesh Ram   \n",
       "4      3  Bihar-Narkatiaganj      4                              RASHMI VARMA   \n",
       "5      3  Bihar-Narkatiaganj      5                               VINAY VARMA   \n",
       "6      4        Bihar-Bagaha      2                                 RAM SINGH   \n",
       "7      4        Bihar-Bagaha      1                      JAYESH MANGLAM SINGH   \n",
       "8      5       Bihar-Lauriya      2                              Vinay Bihari   \n",
       "9      5       Bihar-Lauriya      3                            Shambhu Tiwari   \n",
       "\n",
       "                      Party  EVM Votes  Postal Votes  Total Votes % of Votes  \\\n",
       "0       Janata Dal (United)      74777           129        74906      38.32   \n",
       "1  Indian National Congress      52952           369        53321      27.28   \n",
       "2    Bharatiya Janata Party      75360            63        75423      39.57   \n",
       "3  Indian National Congress      59273           354        59627      31.28   \n",
       "4    Bharatiya Janata Party      75345           139        75484      45.85   \n",
       "5  Indian National Congress      53826           524        54350      33.02   \n",
       "6    Bharatiya Janata Party      89882           131        90013      49.51   \n",
       "7  Indian National Congress      59388           605        59993         33   \n",
       "8    Bharatiya Janata Party      77852            75        77927      49.48   \n",
       "9      Rashtriya Janata Dal      48680           243        48923      31.06   \n",
       "\n",
       "  alliance  \n",
       "0      NDA  \n",
       "1      UPA  \n",
       "2      NDA  \n",
       "3      UPA  \n",
       "4      NDA  \n",
       "5      UPA  \n",
       "6      NDA  \n",
       "7      UPA  \n",
       "8      NDA  \n",
       "9      UPA  "
      ]
     },
     "execution_count": 18,
     "metadata": {},
     "output_type": "execute_result"
    }
   ],
   "source": [
    "df_top2.head(10)"
   ]
  },
  {
   "cell_type": "code",
   "execution_count": 25,
   "metadata": {},
   "outputs": [
    {
     "name": "stdout",
     "output_type": "stream",
     "text": [
      "num seats with low margin: 11\n"
     ]
    }
   ],
   "source": [
    "low_margin = 1000\n",
    "vote_diff_between_top2 = df_top2.groupby('index').apply(lambda x: x['Total Votes'].iloc[0] - x['Total Votes'].iloc[1])\n",
    "#df_top2.loc[vote_diff_between_top2<low_margin,:]\n",
    "seat_nums_with_low_margin = vote_diff_between_top2[vote_diff_between_top2<low_margin].index\n",
    "print('num seats with low margin:', len(seat_nums_with_low_margin))"
   ]
  },
  {
   "cell_type": "code",
   "execution_count": 24,
   "metadata": {},
   "outputs": [
    {
     "data": {
      "text/plain": [
       "(22, 10)"
      ]
     },
     "execution_count": 24,
     "metadata": {},
     "output_type": "execute_result"
    }
   ],
   "source": [
    "df_low_margin = df_top2.loc[df_top2['index'].isin(seat_nums_with_low_margin),:]\n",
    "df_low_margin.shape"
   ]
  },
  {
   "cell_type": "code",
   "execution_count": 21,
   "metadata": {},
   "outputs": [
    {
     "data": {
      "text/plain": [
       "Janata Dal (United)         4\n",
       "Rashtriya Janata Dal        3\n",
       "Communist Party of India    1\n",
       "Lok Jan Shakti Party        1\n",
       "Independent                 1\n",
       "Bharatiya Janata Party      1\n",
       "dtype: int64"
      ]
     },
     "execution_count": 21,
     "metadata": {},
     "output_type": "execute_result"
    }
   ],
   "source": [
    "df_low_margin.groupby('index').apply(lambda x: x['Party'].iloc[0]).value_counts()"
   ]
  },
  {
   "cell_type": "code",
   "execution_count": 30,
   "metadata": {},
   "outputs": [],
   "source": [
    "def get_seat_numbers(df, party_name):\n",
    "    return df.loc[df['Party']==party_name,'index'].values\n",
    "    "
   ]
  },
  {
   "cell_type": "code",
   "execution_count": 41,
   "metadata": {},
   "outputs": [
    {
     "name": "stdout",
     "output_type": "stream",
     "text": [
      "JDU contested sets: 115\n",
      "LJP contested sets: 135\n",
      "Seats with LJP and JDU: 113\n",
      "Seats with LJP and BJP: 6\n",
      "Seats with JDU and BJP: 0\n"
     ]
    }
   ],
   "source": [
    "ljp_contested_seats = get_seat_numbers(df_results, 'Lok Jan Shakti Party')\n",
    "jdu_contested_seats = get_seat_numbers(df_results, 'Janata Dal (United)')\n",
    "bjp_contested_seats = get_seat_numbers(df_results, 'Bharatiya Janata Party')\n",
    "ljp_jdu_common_seats = set(jdu_contested_seats).intersection(set(ljp_contested_seats))\n",
    "ljp_bjp_common_seats = set(bjp_contested_seats).intersection(set(ljp_contested_seats))\n",
    "jdu_bjp_common_seats = set(bjp_contested_seats).intersection(set(jdu_contested_seats))\n",
    "print('JDU contested sets:', len(jdu_contested_seats))\n",
    "print('LJP contested sets:', len(ljp_contested_seats))\n",
    "print('Seats with LJP and JDU:',len(ljp_jdu_common_seats))\n",
    "print('Seats with LJP and BJP:',len(ljp_bjp_common_seats))\n",
    "print('Seats with JDU and BJP:',len(jdu_bjp_common_seats))"
   ]
  },
  {
   "cell_type": "code",
   "execution_count": 35,
   "metadata": {},
   "outputs": [
    {
     "data": {
      "text/plain": [
       "array(['Janata Dal (United)', 'Bahujan Samaj Party',\n",
       "       'Lok Jan Shakti Party', 'Indian National Congress',\n",
       "       'The Plurals Party', 'Bhartiya Party (Loktantrik)',\n",
       "       'Jan Sangharsh Dal,', 'Jan Adhikar Party (Loktantrik)',\n",
       "       'Independent', 'None of the Above', 'Bharatiya Janata Party',\n",
       "       'Rashtriya Lok Samta Party', 'Fauji Kisan Party',\n",
       "       'Janta Dal Rashtravadi', 'Bhartiya Panchyat Party',\n",
       "       'Nationalist Congress Party', 'Bhartiya Sablog Party',\n",
       "       'Bharat Jan Jagran Dal', 'Jai Maha Bharath Party',\n",
       "       'Lok Shakti Party (Loktantrik)', 'Rashtriya Jansambhavna Party',\n",
       "       'Bahujan Maha Party', 'Bihar Lok Nirman Dal',\n",
       "       'Bhartiya Rashtriya Dal', 'Janvadi Party(Socialist)',\n",
       "       'Rashtriya Janata Dal', 'Jagrook Janta Party',\n",
       "       'Aazad Samaj Party (Kanshi Ram)', 'Loktantrik Jan Swaraj Party',\n",
       "       'Vanchit Samaj Party', 'Proutist Sarva Samaj', 'Apna Kisan Party',\n",
       "       'Rashtriya mahan Gantantra Party', 'Janata Congress',\n",
       "       'Peoples Party of India (Democratic)',\n",
       "       'All India Majlis-E-Ittehadul Muslimeen',\n",
       "       'Communist Party of India  (Marxist-Leninist)  (Liberation)',\n",
       "       'Jan Adhikar Party', 'Rashtra Sewa Dal', 'Hindu Samaj Party',\n",
       "       'Vikassheel Insaan Party', 'Jago Hindustan Party',\n",
       "       'All India Minorities Front', 'Yuva Krantikari Party',\n",
       "       'Rashtriya Janwadi Party (Socialist)', 'Bahujan Nyay Dal',\n",
       "       'Bhartiya Vikash Dal United',\n",
       "       'Communist Party of India  (Marxist)', 'Rashtriya Jan Jan Party',\n",
       "       'Swabhiman Party', 'Bahujan Mukti Party',\n",
       "       'Bajjikanchal Vikas Party', 'Bhartiya Aam Janta Vikas Party',\n",
       "       'Akhand Bhartiya Yuva Party', 'Jantantrik Vikas Party',\n",
       "       'Janata Party', \"National People's Party\",\n",
       "       'Bhartiya Garibmazdoor Party,', 'Rashtriya Jan-Jagran Morcha',\n",
       "       'Shiv Sena', 'All India Forward Bloc',\n",
       "       'Rashtriya Secular Majlis Party', 'Samata Party',\n",
       "       'Prabal Bharat Party', 'Rashtriya Janshakti Party (Secular)',\n",
       "       'Republican Party of India (Athawale)', 'Kisan Party of India',\n",
       "       'Rashtrawadi Janlok Party (Satya)', 'Indian National League',\n",
       "       'Proutist Bloc, India', 'Samajwadi Janata Dal Democratic',\n",
       "       'Voters Party  International', 'Kushal Janta Party,',\n",
       "       'Republican Party of India', 'Log Jan Party - Secular,',\n",
       "       'Nationalist Janshakti Party', 'Rashtriya Ulama Council',\n",
       "       'Swaraj India', 'Hindustan Sampoorna Azad Party',\n",
       "       'Communist Party of India', 'Sanyukt Vikas Party',\n",
       "       'Bhartiya Lokmat Rashtrwadi Party',\n",
       "       'Janshakti Vikas Party (Democratic)', 'Jan Mithila Vikas Party',\n",
       "       'Bhartiya Chetna Party', 'Jantantrik Lokhit Party',\n",
       "       'Janhit Kisan Party', 'Janmat Party', 'Satya Bahumat Party',\n",
       "       'Akhil Bhartiya Mithila Party', 'Peace Party',\n",
       "       'Republican Party of India (Rashtriya)',\n",
       "       'Rashtrawadi Minority Party', 'Sanyukt Kisan Vikas Party',\n",
       "       'Bharat Nirman Party', 'Rashtravadi Janata Party',\n",
       "       'Janata Dal  (Secular)', 'Rashtriya Samaj Dal (R)',\n",
       "       'Jai Hind Party', 'Vanchit Bahujan Aaghadi',\n",
       "       'Lokpriya Samaj Party', 'Mazdoor Kirayedar Vikas Party',\n",
       "       'Bhartiya Jantantrik Janata Dal', 'Apna Adhikar Party',\n",
       "       'Aam Janmat Party,', 'Bharatiya Momin Front',\n",
       "       'SOCIAL DEMOCRATIC PARTY OF INDIA', 'Angika Samaj Party',\n",
       "       'Bharat Jago Janta Party', 'Loktantrik Janta Dal',\n",
       "       'Rashtriya Unnati Party', 'All India Majlis-E-Inquilab-E-Millat',\n",
       "       'Sarv Jan Party (Bharat)', 'Anti Corruption Dynamic Party',\n",
       "       'Hindustani Awam Morcha (Secular)', 'Right to Recall Party',\n",
       "       'Aam Janta Party Rashtriya', 'Suheldev Bharatiya Samaj Party',\n",
       "       'Rashtriya Jansangharsh Swaraj Party', 'Rashtriya Jankranti Party',\n",
       "       'Azad Samaj Party', 'Jharkhand Mukti Morcha',\n",
       "       'Bhartiya Mahasangh Party',\n",
       "       'Bharatiya Jan Kranti Dal (Democratic)',\n",
       "       'SOCIALIST UNITY CENTRE OF INDIA (COMMUNIST)',\n",
       "       'Aadarsh Mithila Party', 'Aam Adhikar Morcha',\n",
       "       'Samta Dal (Pragatisheel)', 'Mazdoor Ekta Party',\n",
       "       'Rashtriya Samaj Paksha', 'Rashtriya Jan Kalyan Party Secular',\n",
       "       'Wazib Adhikar Party', 'Rashtriya Janvikas Party (Democratic)',\n",
       "       'Mithilanchal Mukti Morcha', 'Loktantrik Janshakti Party',\n",
       "       'Bhartiya Lok Chetna Party', 'Rashtriya Jan Vikas Party',\n",
       "       'Lok  Chetna  Dal', 'Aapki Apni Adhikar Party',\n",
       "       'Garib Janshakti Party', 'Bhartiya Sanyukt Kisan Party',\n",
       "       'Jawan Kisan Morcha', 'Republican Party of India (A)',\n",
       "       'Gareeb Jankranti Party', 'Sarva Samaj Janata Party',\n",
       "       'Ambedkarite Party of India', 'Akhand Bharat Janpriya Party',\n",
       "       'Maanavvaadi Janta Party', 'Jan Sangharsh Virat Party',\n",
       "       'Subhashwadi Bhartiya Samajwadi Party (Subhas Party)',\n",
       "       'Bharatiya Bahujan Congress', 'Rashtriya Republican Party',\n",
       "       'Gondvana Gantantra Party', 'Bhartiya Insan Party',\n",
       "       'Bhartiya Jan Nayak Party', 'Rashtriya Manav Sewa Party',\n",
       "       'Swatantra Samaj Party', 'Bhartiya Lok Nayak Party',\n",
       "       'Sarvajan Hitay Party', 'Bharat Ka Kisan Majdoor Party',\n",
       "       'Rashtriya Sahyog Party', 'Rashtriya General Party',\n",
       "       'Pragatisheel Janta Party', 'Shoshit Samaj Dal', 'Sapaks Party',\n",
       "       'Sathi Aur Aapka Faisala Party', 'Yuva Bihar Sena',\n",
       "       'Aam Jan Party (Secular)', 'Yug Kranti Dal,',\n",
       "       'Jai Prakash Janata Dal', 'Socialist Party (India)',\n",
       "       'National Tiger Party', 'Bhartiya Dalit Party',\n",
       "       'Bharatiya Samta Samaj Party', 'Lok Samaj Party',\n",
       "       'Sankhyanupati Bhagidari Party', 'Bharat Bhrashtachar Mitao Party',\n",
       "       'Lok Jan Vikas Morcha', 'Bharatiya Inqalab Party',\n",
       "       'Pragatisheel Magahi Samaj', 'National Jagaran Party',\n",
       "       'Bahujan Lok Dal', 'Swaraj Party (Loktantrik)',\n",
       "       'Purvanchal Mahapanchayat',\n",
       "       'Akhil Bhartiya Manavadhikar Vichar Manch Party',\n",
       "       'Asli Deshi Party', 'Public Mission Party',\n",
       "       'Ambedkar National Congress', 'Loktantrik Sarvjan Samaj Party',\n",
       "       'Bhartiya Manavta Party', 'Rashtriya Jagriti Party',\n",
       "       'Loktantrik Samajwadi Party', 'Bharatiya Aam Awam Party',\n",
       "       'Nation First Democratic Party', 'Lok Sewa Dal', 'Jan Sangh Party',\n",
       "       'Bhartiya Kranti Vir Party', 'Moulik Adhikar Party',\n",
       "       'Hindustan Vikas Dal', 'Rashtriya Dal United',\n",
       "       'Rashtrawadi Jansangh', 'Rashtriya Jaihind Party',\n",
       "       'Akhil Bhartiya Apna Dal', 'Rashtriya Swatantra Party,',\n",
       "       'Rashtriya Samanta Dal', 'Akhil Hind Forward Bloc (Krantikari)',\n",
       "       'Rashtriya Samajhit Dal', 'Janta Raj Vikas Party',\n",
       "       'Bhartiya Sarvodaya Party', 'Moolniwasi Samaj Party',\n",
       "       'Hindustani Awam Manch (United),', 'Rajnaitik Chetna Dal',\n",
       "       'Sarvhara Dal'], dtype=object)"
      ]
     },
     "execution_count": 35,
     "metadata": {},
     "output_type": "execute_result"
    }
   ],
   "source": [
    "df_results['Party'].unique()"
   ]
  }
 ],
 "metadata": {
  "kernelspec": {
   "display_name": "Python 3",
   "language": "python",
   "name": "python3"
  },
  "language_info": {
   "codemirror_mode": {
    "name": "ipython",
    "version": 3
   },
   "file_extension": ".py",
   "mimetype": "text/x-python",
   "name": "python",
   "nbconvert_exporter": "python",
   "pygments_lexer": "ipython3",
   "version": "3.8.3"
  }
 },
 "nbformat": 4,
 "nbformat_minor": 4
}
